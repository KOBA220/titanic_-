{
 "cells": [
  {
   "cell_type": "code",
   "execution_count": 1,
   "id": "1d188639",
   "metadata": {},
   "outputs": [],
   "source": [
    "import numpy as np\n",
    "import pandas as pd\n",
    "import sklearn"
   ]
  },
  {
   "cell_type": "code",
   "execution_count": 4,
   "id": "8a40bbfd",
   "metadata": {},
   "outputs": [],
   "source": [
    "houseprice = pd.read_csv('houseprice_text.csv')"
   ]
  },
  {
   "cell_type": "code",
   "execution_count": 5,
   "id": "44617681",
   "metadata": {},
   "outputs": [
    {
     "data": {
      "text/html": [
       "<div>\n",
       "<style scoped>\n",
       "    .dataframe tbody tr th:only-of-type {\n",
       "        vertical-align: middle;\n",
       "    }\n",
       "\n",
       "    .dataframe tbody tr th {\n",
       "        vertical-align: top;\n",
       "    }\n",
       "\n",
       "    .dataframe thead th {\n",
       "        text-align: right;\n",
       "    }\n",
       "</style>\n",
       "<table border=\"1\" class=\"dataframe\">\n",
       "  <thead>\n",
       "    <tr style=\"text-align: right;\">\n",
       "      <th></th>\n",
       "      <th>Id</th>\n",
       "      <th>SalePrice</th>\n",
       "      <th>OverallQual</th>\n",
       "      <th>GrLivArea</th>\n",
       "      <th>GarageCars</th>\n",
       "      <th>TotRmsAbvGrd</th>\n",
       "      <th>YearBuilt</th>\n",
       "      <th>KitchenQual</th>\n",
       "      <th>ExterQual</th>\n",
       "    </tr>\n",
       "  </thead>\n",
       "  <tbody>\n",
       "    <tr>\n",
       "      <th>0</th>\n",
       "      <td>1</td>\n",
       "      <td>208500</td>\n",
       "      <td>7</td>\n",
       "      <td>1710</td>\n",
       "      <td>2</td>\n",
       "      <td>8</td>\n",
       "      <td>2003</td>\n",
       "      <td>2</td>\n",
       "      <td>2</td>\n",
       "    </tr>\n",
       "    <tr>\n",
       "      <th>1</th>\n",
       "      <td>4</td>\n",
       "      <td>140000</td>\n",
       "      <td>7</td>\n",
       "      <td>1717</td>\n",
       "      <td>3</td>\n",
       "      <td>7</td>\n",
       "      <td>1915</td>\n",
       "      <td>2</td>\n",
       "      <td>3</td>\n",
       "    </tr>\n",
       "    <tr>\n",
       "      <th>2</th>\n",
       "      <td>7</td>\n",
       "      <td>307000</td>\n",
       "      <td>8</td>\n",
       "      <td>1694</td>\n",
       "      <td>2</td>\n",
       "      <td>7</td>\n",
       "      <td>2004</td>\n",
       "      <td>2</td>\n",
       "      <td>2</td>\n",
       "    </tr>\n",
       "    <tr>\n",
       "      <th>3</th>\n",
       "      <td>8</td>\n",
       "      <td>200000</td>\n",
       "      <td>7</td>\n",
       "      <td>2090</td>\n",
       "      <td>2</td>\n",
       "      <td>7</td>\n",
       "      <td>1973</td>\n",
       "      <td>3</td>\n",
       "      <td>3</td>\n",
       "    </tr>\n",
       "    <tr>\n",
       "      <th>4</th>\n",
       "      <td>9</td>\n",
       "      <td>129900</td>\n",
       "      <td>7</td>\n",
       "      <td>1774</td>\n",
       "      <td>2</td>\n",
       "      <td>8</td>\n",
       "      <td>1931</td>\n",
       "      <td>3</td>\n",
       "      <td>3</td>\n",
       "    </tr>\n",
       "  </tbody>\n",
       "</table>\n",
       "</div>"
      ],
      "text/plain": [
       "   Id  SalePrice  OverallQual  GrLivArea  GarageCars  TotRmsAbvGrd  YearBuilt  \\\n",
       "0   1     208500            7       1710           2             8       2003   \n",
       "1   4     140000            7       1717           3             7       1915   \n",
       "2   7     307000            8       1694           2             7       2004   \n",
       "3   8     200000            7       2090           2             7       1973   \n",
       "4   9     129900            7       1774           2             8       1931   \n",
       "\n",
       "   KitchenQual  ExterQual  \n",
       "0            2          2  \n",
       "1            2          3  \n",
       "2            2          2  \n",
       "3            3          3  \n",
       "4            3          3  "
      ]
     },
     "execution_count": 5,
     "metadata": {},
     "output_type": "execute_result"
    }
   ],
   "source": [
    "houseprice.head()"
   ]
  },
  {
   "cell_type": "code",
   "execution_count": 6,
   "id": "fb00168c",
   "metadata": {},
   "outputs": [],
   "source": [
    "y = houseprice[\"SalePrice\"]\n",
    "X = houseprice.drop([\"Id\", \"SalePrice\"], axis=1)"
   ]
  },
  {
   "cell_type": "code",
   "execution_count": 7,
   "id": "c635292e",
   "metadata": {},
   "outputs": [],
   "source": [
    "y_array = np.array(y)\n",
    "X_array = np.array(X)"
   ]
  },
  {
   "cell_type": "code",
   "execution_count": 8,
   "id": "c67789ab",
   "metadata": {},
   "outputs": [],
   "source": [
    "from sklearn.model_selection import train_test_split"
   ]
  },
  {
   "cell_type": "code",
   "execution_count": 9,
   "id": "eef23c0c",
   "metadata": {},
   "outputs": [],
   "source": [
    "X_train, X_test, y_train, y_test = train_test_split(X_array, y_array, test_size=0.4, random_state=0)"
   ]
  },
  {
   "cell_type": "code",
   "execution_count": 10,
   "id": "5f736c5f",
   "metadata": {},
   "outputs": [],
   "source": [
    "from sklearn.ensemble import RandomForestRegressor"
   ]
  },
  {
   "cell_type": "code",
   "execution_count": 11,
   "id": "389c85db",
   "metadata": {},
   "outputs": [],
   "source": [
    "rfr = RandomForestRegressor(random_state=0)"
   ]
  },
  {
   "cell_type": "code",
   "execution_count": 14,
   "id": "13049b01",
   "metadata": {},
   "outputs": [
    {
     "data": {
      "text/plain": [
       "RandomForestRegressor(random_state=0)"
      ]
     },
     "execution_count": 14,
     "metadata": {},
     "output_type": "execute_result"
    }
   ],
   "source": [
    "rfr.fit(X_train, y_train)"
   ]
  },
  {
   "cell_type": "markdown",
   "id": "54c11070",
   "metadata": {},
   "source": [
    "houseprice2 =pd.read_csv(\"houseprice_assignment_question.csv\")"
   ]
  },
  {
   "cell_type": "code",
   "execution_count": 15,
   "id": "f9f93634",
   "metadata": {},
   "outputs": [],
   "source": [
    "houseprice2 = pd.read_csv(\"houseprice_assignment_question.csv\")"
   ]
  },
  {
   "cell_type": "code",
   "execution_count": 16,
   "id": "f40d4a20",
   "metadata": {},
   "outputs": [
    {
     "data": {
      "text/html": [
       "<div>\n",
       "<style scoped>\n",
       "    .dataframe tbody tr th:only-of-type {\n",
       "        vertical-align: middle;\n",
       "    }\n",
       "\n",
       "    .dataframe tbody tr th {\n",
       "        vertical-align: top;\n",
       "    }\n",
       "\n",
       "    .dataframe thead th {\n",
       "        text-align: right;\n",
       "    }\n",
       "</style>\n",
       "<table border=\"1\" class=\"dataframe\">\n",
       "  <thead>\n",
       "    <tr style=\"text-align: right;\">\n",
       "      <th></th>\n",
       "      <th>Id</th>\n",
       "      <th>OverallQual</th>\n",
       "      <th>GrLivArea</th>\n",
       "      <th>GarageCars</th>\n",
       "      <th>TotRmsAbvGrd</th>\n",
       "      <th>YearBuilt</th>\n",
       "      <th>KitchenQual</th>\n",
       "      <th>ExterQual</th>\n",
       "    </tr>\n",
       "  </thead>\n",
       "  <tbody>\n",
       "    <tr>\n",
       "      <th>0</th>\n",
       "      <td>2</td>\n",
       "      <td>6</td>\n",
       "      <td>1262</td>\n",
       "      <td>2</td>\n",
       "      <td>6</td>\n",
       "      <td>1976</td>\n",
       "      <td>3</td>\n",
       "      <td>3</td>\n",
       "    </tr>\n",
       "    <tr>\n",
       "      <th>1</th>\n",
       "      <td>3</td>\n",
       "      <td>7</td>\n",
       "      <td>1786</td>\n",
       "      <td>2</td>\n",
       "      <td>6</td>\n",
       "      <td>2001</td>\n",
       "      <td>2</td>\n",
       "      <td>2</td>\n",
       "    </tr>\n",
       "    <tr>\n",
       "      <th>2</th>\n",
       "      <td>5</td>\n",
       "      <td>8</td>\n",
       "      <td>2198</td>\n",
       "      <td>3</td>\n",
       "      <td>9</td>\n",
       "      <td>2000</td>\n",
       "      <td>2</td>\n",
       "      <td>2</td>\n",
       "    </tr>\n",
       "    <tr>\n",
       "      <th>3</th>\n",
       "      <td>6</td>\n",
       "      <td>5</td>\n",
       "      <td>1362</td>\n",
       "      <td>2</td>\n",
       "      <td>5</td>\n",
       "      <td>1993</td>\n",
       "      <td>3</td>\n",
       "      <td>3</td>\n",
       "    </tr>\n",
       "    <tr>\n",
       "      <th>4</th>\n",
       "      <td>10</td>\n",
       "      <td>5</td>\n",
       "      <td>1077</td>\n",
       "      <td>1</td>\n",
       "      <td>5</td>\n",
       "      <td>1939</td>\n",
       "      <td>3</td>\n",
       "      <td>3</td>\n",
       "    </tr>\n",
       "  </tbody>\n",
       "</table>\n",
       "</div>"
      ],
      "text/plain": [
       "   Id  OverallQual  GrLivArea  GarageCars  TotRmsAbvGrd  YearBuilt  \\\n",
       "0   2            6       1262           2             6       1976   \n",
       "1   3            7       1786           2             6       2001   \n",
       "2   5            8       2198           3             9       2000   \n",
       "3   6            5       1362           2             5       1993   \n",
       "4  10            5       1077           1             5       1939   \n",
       "\n",
       "   KitchenQual  ExterQual  \n",
       "0            3          3  \n",
       "1            2          2  \n",
       "2            2          2  \n",
       "3            3          3  \n",
       "4            3          3  "
      ]
     },
     "execution_count": 16,
     "metadata": {},
     "output_type": "execute_result"
    }
   ],
   "source": [
    "houseprice2.head()"
   ]
  },
  {
   "cell_type": "code",
   "execution_count": 19,
   "id": "6fe97d50",
   "metadata": {},
   "outputs": [],
   "source": [
    "x2 = np.array(houseprice2.drop([\"Id\"], axis=1))"
   ]
  },
  {
   "cell_type": "code",
   "execution_count": 20,
   "id": "6bc9ede6",
   "metadata": {},
   "outputs": [],
   "source": [
    "x2_array = np.array(x2)"
   ]
  },
  {
   "cell_type": "code",
   "execution_count": 22,
   "id": "25160025",
   "metadata": {},
   "outputs": [],
   "source": [
    "y2_pred = rfr.predict(x2_array)"
   ]
  },
  {
   "cell_type": "code",
   "execution_count": 23,
   "id": "7da17f03",
   "metadata": {},
   "outputs": [
    {
     "name": "stdout",
     "output_type": "stream",
     "text": [
      "[148680.11       216294.75       325472.98       166179.18\n",
      " 101820.25       140801.         153863.39571429 148328.\n",
      " 304989.13        63508.6        142465.75       293362.7\n",
      " 124813.08333333 317332.13       277756.25       125464.5\n",
      " 326677.08       154614.         162052.         261827.06\n",
      " 463586.67        94223.4        182861.5        293902.25\n",
      " 112029.33333333 205187.41666667 108265.         123765.\n",
      " 207116.78       133615.66666667 173006.55833333  94839.5\n",
      " 194168.25       146573.         154546.1        176059.9\n",
      " 324450.86       375100.37       203740.78       145414.\n",
      " 110955.4        175403.5        142539.48       120479.\n",
      " 119870.         181919.02933333 143053.75       120733.3\n",
      " 403942.12       101876.         334489.54       121099.6\n",
      " 111536.5        135518.         133430.         161763.5\n",
      "  94773.         301513.53       408208.95       225290.\n",
      " 145922.         177201.         135761.75       127164.1\n",
      "  96233.         189352.         114669.5        185031.25\n",
      " 306315.02       178557.35       308635.91       274867.81\n",
      " 140129.74       183029.37        89638.72       167200.\n",
      "  83758.         135327.46666667 127230.         222237.85\n",
      " 166835.14       139410.86666667 175365.55        69664.\n",
      " 181442.92       210602.19       199819.82       139781.1\n",
      " 217963.5        153393.87        88086.22       106655.\n",
      "  86192.         421815.83       146213.92       196770.35\n",
      " 197409.         250830.54       135549.25       157332.5\n",
      " 120795.         276160.69       102017.04       205335.\n",
      " 146968.83333333 146236.25       188061.13       146953.35714286\n",
      " 297074.14       257391.19        82141.68       126404.\n",
      " 201720.79       110607.05       203423.5        116260.8\n",
      " 244551.67       255336.17       108407.28       179281.5\n",
      " 150452.         201442.28333333 272826.83       213403.4\n",
      " 128707.75       127080.         212665.026      157851.32\n",
      " 158209.32       106730.3        194430.16666667 207447.91\n",
      " 130557.         113337.16666667 362434.42       142308.19\n",
      " 145606.          58989.26       198578.         174729.\n",
      " 293172.61       334259.33        87051.22       121097.96\n",
      " 135618.83333333 136388.91666667 165718.         274016.17\n",
      " 195618.         197622.5        369550.63       145348.5\n",
      " 153025.48333333 203000.         158402.         183910.5\n",
      " 195997.2        114010.66666667 116794.         321619.84\n",
      " 134462.         206928.         124836.99       172408.47\n",
      " 156351.177      219797.9        410463.78       196450.\n",
      " 246222.66       115718.33333333 178829.61666667 143589.75238095\n",
      " 197027.5        142950.         425333.33        90813.\n",
      " 148619.62       197617.25       174962.         178097.9\n",
      " 288830.64       200196.5        133766.2        180478.33\n",
      "  90359.5        152332.85333333 142831.         279750.69\n",
      " 122629.92       217697.7        232667.93       212760.75\n",
      " 167193.54       180556.74       305608.7        170282.5\n",
      " 125760.5        159808.4        143587.5        143192.74\n",
      " 196084.14666667 244353.02       117751.1        235933.27\n",
      " 163717.01666667  95989.38       122957.55       190931.\n",
      " 188924.         185331.2        125365.6        125824.\n",
      " 140000.24        92604.44       174778.1325     152813.66666667\n",
      " 102868.75       158424.18       209365.22       131681.\n",
      " 164424.43       186696.12       167701.         144380.43571429\n",
      " 128529.         149825.         180750.          95180.61\n",
      " 119883.         196218.         137824.         294312.25\n",
      " 181522.         233182.         115842.         110899.\n",
      " 179558.51666667 135088.2        196187.5        114329.98666667\n",
      " 292770.95       164070.         653273.16       126592.5\n",
      "  99608.5        241969.         131327.         226501.5\n",
      " 160619.96       140852.         320408.36       150262.37\n",
      " 230538.4        226104.32        94152.2        180306.5\n",
      " 183212.35       149337.5        111062.04       148814.\n",
      " 130642.5        149922.         632968.39       237000.35\n",
      " 151219.         152813.66666667 190259.9        214210.\n",
      " 161021.32       211457.          63919.5        160746.\n",
      " 218902.36       125108.         116882.5        203004.31666667\n",
      " 187609.7        166130.         212450.         193631.5\n",
      " 364382.87       282832.18       171285.15       124870.\n",
      " 177124.84       239268.29        86308.39       194327.58\n",
      " 137980.         178681.04       143217.         149853.85714286]\n"
     ]
    }
   ],
   "source": [
    "print(y2_pred)"
   ]
  },
  {
   "cell_type": "code",
   "execution_count": 25,
   "id": "96a82a74",
   "metadata": {},
   "outputs": [],
   "source": [
    "houseprice3 = houseprice2.drop([\"OverallQual\",\"GrLivArea\",\"GarageCars\",\"TotRmsAbvGrd\",\"YearBuilt\",\"KitchenQual\",\"ExterQual\"], axis=1)"
   ]
  },
  {
   "cell_type": "code",
   "execution_count": 26,
   "id": "60cab8fc",
   "metadata": {},
   "outputs": [
    {
     "name": "stdout",
     "output_type": "stream",
     "text": [
      "       Id\n",
      "0       2\n",
      "1       3\n",
      "2       5\n",
      "3       6\n",
      "4      10\n",
      "..    ...\n",
      "287  1416\n",
      "288  1428\n",
      "289  1430\n",
      "290  1451\n",
      "291  1453\n",
      "\n",
      "[292 rows x 1 columns]\n"
     ]
    }
   ],
   "source": [
    "print(houseprice3)"
   ]
  },
  {
   "cell_type": "code",
   "execution_count": 27,
   "id": "070a884d",
   "metadata": {},
   "outputs": [],
   "source": [
    "houseprice3[\"SalePrice\"] = y2_pred"
   ]
  },
  {
   "cell_type": "code",
   "execution_count": 28,
   "id": "82521236",
   "metadata": {},
   "outputs": [
    {
     "name": "stdout",
     "output_type": "stream",
     "text": [
      "       Id      SalePrice\n",
      "0       2  148680.110000\n",
      "1       3  216294.750000\n",
      "2       5  325472.980000\n",
      "3       6  166179.180000\n",
      "4      10  101820.250000\n",
      "..    ...            ...\n",
      "287  1416  194327.580000\n",
      "288  1428  137980.000000\n",
      "289  1430  178681.040000\n",
      "290  1451  143217.000000\n",
      "291  1453  149853.857143\n",
      "\n",
      "[292 rows x 2 columns]\n"
     ]
    }
   ],
   "source": [
    "print(houseprice3)"
   ]
  },
  {
   "cell_type": "code",
   "execution_count": 29,
   "id": "6ccb563a",
   "metadata": {},
   "outputs": [],
   "source": [
    "houseprice3.to_csv(\"y_pred_SalePrice_submit.csv\", index=False)"
   ]
  },
  {
   "cell_type": "code",
   "execution_count": null,
   "id": "1a6bbb37",
   "metadata": {},
   "outputs": [],
   "source": []
  }
 ],
 "metadata": {
  "kernelspec": {
   "display_name": "Python 3 (ipykernel)",
   "language": "python",
   "name": "python3"
  },
  "language_info": {
   "codemirror_mode": {
    "name": "ipython",
    "version": 3
   },
   "file_extension": ".py",
   "mimetype": "text/x-python",
   "name": "python",
   "nbconvert_exporter": "python",
   "pygments_lexer": "ipython3",
   "version": "3.9.13"
  }
 },
 "nbformat": 4,
 "nbformat_minor": 5
}
